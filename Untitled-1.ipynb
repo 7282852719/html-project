{
 "cells": [
  {
   "cell_type": "code",
   "execution_count": null,
   "metadata": {},
   "outputs": [],
   "source": [
    "import random human_point=0\n",
    "computer_point=0\n",
    "print(\"\\t\\t\\t\\t HELLO\\t\\t\\t\\t\")\n",
    "print(\"\\t\\t\\tWelcome to this wonderful Game\\t\\t\")\n",
    "print(\" (NOTE: Whenever you want to exist the game please press O[ZERO].) \\n\\n\")\n",
    "i=0 while (True):\n",
    "a=int (input(\"Enter a number from 1 to 6: \\n\" ,))\n",
    "b=int (random.randint (1,6))\n",
    "if a==b:\n",
    "13\n",
    "human_point=human_point+1\n",
    "print(f\"You enter {a] and computer give {b]\")\n",
    "print (\"You WIN\")\n",
    "print(f\"Computer point is {computer_point] and your point is (human_point]\")\n",
    "elif al=b and a›=1 and a‹=6:\n",
    "computer_point=computer_point+1\n",
    "print(f\"You enter {a] and computer give {b]\")\n",
    "print (\"You LOOSE\")\n",
    "print (f\"Computer point is {computer_point] and your point is (human_point)\")\n",
    "elif a==0:\n",
    "break\n",
    "3\n",
    "else:\n",
    "print (\"Please enter a vlid input\")\n",
    "print(\"\\t \\t \\tGave over\\t\\t\\t\")\n",
    "16\n",
    "7\n",
    "8\n",
    "print (f\"Your point is '(human_point)' and Computer point is '(computer_point)'.\")\n",
    "print(\"\\t\\tThank you for your valuable time. \\t\\t\\t\")\n",
    "print(“tltltsee youlsoon.\\t\\tlt”）\n",
    "\n"
   ]
  }
 ],
 "metadata": {
  "language_info": {
   "name": "python"
  },
  "orig_nbformat": 4
 },
 "nbformat": 4,
 "nbformat_minor": 2
}
